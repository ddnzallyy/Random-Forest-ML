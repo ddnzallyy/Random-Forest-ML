{
 "cells": [
  {
   "cell_type": "code",
   "execution_count": null,
   "id": "ebd5a4d2",
   "metadata": {},
   "outputs": [],
   "source": [
    "# Import\n",
    "import pandas as pd\n",
    "from sklearn.model_selection import train_test_split\n",
    "from sklearn.ensemble import RandomForestRegressor\n",
    "from sklearn.metrics import mean_squared_error, r2_score\n",
    "import numpy as np\n",
    "import scipy as sc"
   ]
  },
  {
   "cell_type": "code",
   "execution_count": null,
   "id": "b96ca2c1",
   "metadata": {},
   "outputs": [
    {
     "name": "stdout",
     "output_type": "stream",
     "text": [
      "       student_id  age  gender             major  study_hours_per_day  \\\n",
      "0          100000   26    Male  Computer Science             7.645367   \n",
      "1          100001   28    Male              Arts             5.700000   \n",
      "2          100002   17    Male              Arts             2.400000   \n",
      "3          100003   27   Other        Psychology             3.400000   \n",
      "4          100004   25  Female          Business             4.700000   \n",
      "...           ...  ...     ...               ...                  ...   \n",
      "79995      179995   16    Male       Engineering             3.700000   \n",
      "79996      179996   16  Female          Business             1.200000   \n",
      "79997      179997   26  Female              Arts             4.100000   \n",
      "79998      179998   23   Other           Biology             3.800000   \n",
      "79999      179999   25   Other       Engineering             3.000000   \n",
      "\n",
      "       social_media_hours  netflix_hours part_time_job  attendance_percentage  \\\n",
      "0                     3.0            0.1           Yes                   70.3   \n",
      "1                     0.5            0.4            No                   88.4   \n",
      "2                     4.2            0.7            No                   82.1   \n",
      "3                     4.6            2.3           Yes                   79.3   \n",
      "4                     0.8            2.7           Yes                   62.9   \n",
      "...                   ...            ...           ...                    ...   \n",
      "79995                 2.1            1.0           Yes                   80.8   \n",
      "79996                 0.4            2.9            No                   99.5   \n",
      "79997                 1.6            1.6           Yes                   46.1   \n",
      "79998                 0.6            3.5           Yes                   58.7   \n",
      "79999                 4.5            3.4           Yes                   97.7   \n",
      "\n",
      "       sleep_hours  ... screen_time  study_environment access_to_tutoring  \\\n",
      "0              6.2  ...        10.9  Co-Learning Group                Yes   \n",
      "1              7.2  ...         8.3  Co-Learning Group                Yes   \n",
      "2              9.2  ...         8.0            Library                Yes   \n",
      "3              4.2  ...        11.7  Co-Learning Group                Yes   \n",
      "4              6.5  ...         9.4         Quiet Room                Yes   \n",
      "...            ...  ...         ...                ...                ...   \n",
      "79995          6.1  ...         8.3            Library                 No   \n",
      "79996          4.1  ...         4.7  Co-Learning Group                 No   \n",
      "79997          8.3  ...         7.5               Dorm                 No   \n",
      "79998          5.8  ...         9.3         Quiet Room                Yes   \n",
      "79999          5.3  ...        12.2  Co-Learning Group                Yes   \n",
      "\n",
      "      family_income_range  parental_support_level motivation_level  \\\n",
      "0                    High                       9                7   \n",
      "1                     Low                       7                2   \n",
      "2                    High                       3                9   \n",
      "3                     Low                       5                3   \n",
      "4                  Medium                       9                1   \n",
      "...                   ...                     ...              ...   \n",
      "79995                 Low                       1                4   \n",
      "79996                 Low                       3                2   \n",
      "79997              Medium                       7                1   \n",
      "79998                 Low                       2                8   \n",
      "79999              Medium                       1                8   \n",
      "\n",
      "       exam_anxiety_score  learning_style  time_management_score exam_score  \n",
      "0                       8         Reading                    3.0        100  \n",
      "1                      10         Reading                    6.0         99  \n",
      "2                       6     Kinesthetic                    7.6         98  \n",
      "3                      10         Reading                    3.2        100  \n",
      "4                      10         Reading                    7.1         98  \n",
      "...                   ...             ...                    ...        ...  \n",
      "79995                  10        Auditory                    5.3         88  \n",
      "79996                  10     Kinesthetic                    6.8         52  \n",
      "79997                  10          Visual                    1.3         89  \n",
      "79998                   7     Kinesthetic                    3.7         96  \n",
      "79999                   7         Reading                    6.7        100  \n",
      "\n",
      "[80000 rows x 31 columns]\n"
     ]
    }
   ],
   "source": [
    "# Imort the data\n",
    "df = pd.read_csv(\"students_performance.csv\")\n",
    "print(df)"
   ]
  },
  {
   "cell_type": "code",
   "execution_count": null,
   "id": "5aee52dd",
   "metadata": {},
   "outputs": [],
   "source": [
    "# Clean and split the data\n",
    "\n",
    "X = df[\"exam_score\"]\n",
    "y = df.iloc[:, [1, 4, 5, 6, 8, 9, 11, 14, 16, 18]]\n",
    "\n",
    "X_train, X_test, y_train, y_test = train_test_split(X, y, train_size=0.8)\n",
    "\n",
    "X_train = pd.DataFrame(X_train)\n",
    "X_test = pd.DataFrame(X_test)\n",
    "y_train = pd.DataFrame(y_train)\n",
    "y_test = pd.DataFrame(y_test)"
   ]
  },
  {
   "cell_type": "code",
   "execution_count": null,
   "id": "b89300eb",
   "metadata": {},
   "outputs": [],
   "source": [
    "# Train\n",
    "\n",
    "# Creating the instance of the model RF\n",
    "rf = RandomForestRegressor()\n",
    "\n",
    "rf_model = rf.fit(X_train, y_train.squeeze())"
   ]
  },
  {
   "cell_type": "code",
   "execution_count": null,
   "id": "c77afc20",
   "metadata": {},
   "outputs": [],
   "source": [
    "# Test the model\n",
    "y_predict = rf_model.predict(X_test)"
   ]
  },
  {
   "cell_type": "code",
   "execution_count": null,
   "id": "4ab86f94",
   "metadata": {},
   "outputs": [
    {
     "name": "stdout",
     "output_type": "stream",
     "text": [
      "5.801707991123118\n",
      "0.09618909261348511\n"
     ]
    }
   ],
   "source": [
    "# rmse and r2\n",
    "\n",
    "rmse = np.sqrt(mean_squared_error(y_test, y_predict))\n",
    "r2 = r2_score(y_test, y_predict)\n",
    "\n",
    "print(rmse)\n",
    "print(r2)"
   ]
  }
 ],
 "metadata": {
  "kernelspec": {
   "display_name": "Python 3",
   "language": "python",
   "name": "python3"
  },
  "language_info": {
   "codemirror_mode": {
    "name": "ipython",
    "version": 3
   },
   "file_extension": ".py",
   "mimetype": "text/x-python",
   "name": "python",
   "nbconvert_exporter": "python",
   "pygments_lexer": "ipython3",
   "version": "3.11.9"
  }
 },
 "nbformat": 4,
 "nbformat_minor": 5
}
